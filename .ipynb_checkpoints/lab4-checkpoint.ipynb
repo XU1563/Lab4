{
 "cells": [
  {
   "cell_type": "markdown",
   "metadata": {},
   "source": [
    "## Search for the enzyme that regulated in the pathway \n",
    "Finding the enzymes for each pathway through the KEGG\n",
    "#### The list below are the enzyme in the glycolysis pathway:\n",
    "phosphoglucomutase;\n",
    "aldose 1-epimerase;\n",
    "enolase;\n",
    "glucose-6-phosphate isomerase;\n",
    "#### Pentose pathway:\n",
    "glucose-6-phosphate isomerase;\n",
    "transketolase;\n",
    "fructose-bisphosphate aldolase;\n",
    "fructose-1,6-bisphosphatase;\n",
    "#### CTA cycle pathway:\n",
    "pyruvate dehydrogenase E1;\n",
    "isocitrate dehydrogenase;\n",
    "pyruvate dehydrogenase E2;\n",
    "malate dehydrogenase\n"
   ]
  },
  {
   "cell_type": "code",
   "execution_count": 21,
   "metadata": {
    "scrolled": false
   },
   "outputs": [
    {
     "name": "stdout",
     "output_type": "stream",
     "text": [
      "['FUIG01000013.1', 'XM_023311391.1', 'AFAS01000018.1', 'NM_138801.2', 'XM_023317388.1', 'CP026473.1', 'X66610.1', 'XM_023310563.1', 'X82400.1', 'PROSITE:PS51463', 'XM_023313082.1', 'PROSITE:PS51463', 'PROSITE:PS51463', 'XM_023313082.1', 'PROSITE:PS51463', 'X67688.1', 'AF047336.1', 'AXTJ01000031.1', 'X07292.1', 'XM_023316276.1', 'AKNI01000030.1', 'L10320.1', 'LC058525.1', 'ADWR01000051.1', 'NM_005390.4', 'XM_023318640.1', 'XM_015178001.1', 'PROSITE:PS51826', 'AH003583.2', 'FJ907946.1', 'CP002516.1', 'L12760.1', 'NM_079060.3', 'AXTZ01000072.1']\n"
     ]
    }
   ],
   "source": [
    "#Using entrez to get the data for the protein coded gene\n",
    "from Bio import SeqIO\n",
    "from Bio import Entrez\n",
    "Entrez.email = 'zihuixu1@berkeley.edu'\n",
    "\n",
    "glycolysis_terms = ['homo sapiens[ORGN] phosphoglucomutase','drosophila[ORGN] phosphoglucomutase','Escherichia coli[ORGN] phosphoglucomutase',\n",
    "                  'homo sapiens[ORGN] aldose 1-epimerase','drosophila[ORGN] aldose 1-epimerase','Escherichia coli[ORGN] aldose 1-epimerase',\n",
    "                  'homo sapiens[ORGN] enolase','drosophila[ORGN] enolase','Escherichia coli[ORGN] enolase',\n",
    "                  'homo sapiens[ORGN] glucose-6-phosphate isomerase', 'drosophila[ORGN] glucose-6-phosphate isomerase','Escherichia coli[ORGN] glucose-6-phosphate isomerase']\n",
    "pentose_terms = ['homo sapiens[ORGN] glucose-6-phosphate isomerase','drosophila[ORGN] glucose-6-phosphate isomerase','Escherichia coli[ORGN] glucose-6-phosphate isomerase',\n",
    "                 'homo sapiens[ORGN] transketolase', 'drosophila[ORGN] transketolase', 'Escherichia coli[ORGN] transketolase',\n",
    "                 'homo sapiens[ORGN] fructose-bisphosphate aldolase','drosophila[ORGN] fructose-bisphosphate aldolase', 'Escherichia coli[ORGN] fructose-bisphosphate aldolase',\n",
    "                 'homo sapiens[ORGN] fructose-1,6-bisphosphatase','drosophila[ORGN] fructose-1,6-bisphosphatase', 'Escherichia coli[ORGN] fructose-1,6-bisphosphatase']\n",
    "citric_terms = ['homo sapiens[ORGN] pyruvate dehydrogenase E1','drosophila[ORGN] pyruvate dehydrogenase E1','Escherichia coli[ORGN] pyruvate dehydrogenase E1'\n",
    "                'homo sapiens[ORGN] pyruvate dehydrogenase E2', 'drosophila[ORGN] pyruvate dehydrogenase E2', 'Escherichia coli[ORGN] pyruvate dehydrogenase E2',\n",
    "                'homo sapiens[ORGN] dihydrolipoamide dehydrogenase', 'drosophila[ORGN] dihydrolipoamide dehydrogenase', 'Escherichia coli[ORGN] dihydrolipoamide dehydrogenase',\n",
    "                'homo sapiens[ORGN] phosphoenolpyruvate carboxykinase', 'drosophila[ORGN] phosphoenolpyruvate carboxykinase', 'Escherichia coli[ORGN] phosphoenolpyruvate carboxykinase']\n",
    "\n",
    "Prot_gene=[]\n",
    "def accession(cycle_name, cycle_list):\n",
    "    for i in cycle_list:\n",
    "        handle = Entrez.esearch(db='protein',\n",
    "                               term=i,\n",
    "                               sort='relevance',\n",
    "                               idtype='acc'\n",
    "                               )\n",
    "        seq=Entrez.read(handle)['IdList']\n",
    "        if seq:\n",
    "            First_seq=seq[0]\n",
    "            handle=Entrez.efetch(db='protein', id=First_seq, rettype='gb', retmode='text')\n",
    "            temp = SeqIO.read(handle,'gb')\n",
    "            gene= temp.annotations['db_source'] \n",
    "            Prot_gene.append(gene)\n",
    "            \n",
    "accession(\"Glycolysis\",glycolysis_terms)\n",
    "accession(\"Pentose phosphate pathway\",pentose_terms)\n",
    "accession(\"Citric acid cycle\", citric_terms)\n",
    "# Get the accession number of the gene\n",
    "gene_accession_num=[]\n",
    "for i in Prot_gene:\n",
    "    length=i.split()\n",
    "    gene_accession_num.append(length[-1])\n",
    "print(gene_accession_num)"
   ]
  },
  {
   "cell_type": "code",
   "execution_count": 22,
   "metadata": {
    "scrolled": false
   },
   "outputs": [],
   "source": [
    "#Create a table for genes\n",
    "import sqlite3\n",
    "conn=sqlite3.connect('my.db')\n",
    "c=conn.cursor()\n",
    "c.execute(\"\"\"DROP TABLE GENES\"\"\")\n",
    "c.execute(\"\"\"CREATE TABLE GENES(name TEXT,\n",
    "                                description TEXT,\n",
    "                                organism TEXT,\n",
    "                                nuleotide sequence TEXT);\"\"\")\n",
    "def table(gene):\n",
    "    for t in gene:\n",
    "        handle = Entrez.esearch(db='nucleotide',\n",
    "                        term=t,\n",
    "                        sort='relevance',\n",
    "                        idtype='acc')\n",
    "        seqs = Entrez.read(handle)['IdList']\n",
    "        if seqs:\n",
    "            first_seq = seqs[0]\n",
    "            handle=Entrez.efetch(db='nucleotide', id=first_seq, rettype='gb', retmode='text')\n",
    "            temp = SeqIO.read(handle, 'gb')\n",
    "            c.execute(\"INSERT INTO GENES VALUES (?, ?, ?, ?)\", \n",
    "                      (temp.name, temp.description, temp.annotations['organism'], str(temp.seq)))\n",
    "        else:\n",
    "            continue\n",
    "table(gene_accession_num)\n",
    "conn.commit()\n"
   ]
  },
  {
   "cell_type": "markdown",
   "metadata": {},
   "source": [
    "The file is really big for the gene table. In order to avoid the running crush, the table is not display here as the print out."
   ]
  },
  {
   "cell_type": "code",
   "execution_count": 23,
   "metadata": {},
   "outputs": [],
   "source": [
    "#Create a table for pathways\n",
    "c.execute(\"\"\"DROP TABLE PATHWAYS\"\"\")\n",
    "c.execute(\"\"\"CREATE TABLE PATHWAYS (name TEXT,\n",
    "                                   description TEXT);\"\"\")\n",
    "\n",
    "c.execute(\"\"\"INSERT INTO PATHWAYS (name,\n",
    "                                  description)\n",
    "                          VALUES ('glycolysis',\n",
    "                                  'convert C6H12O6 into pyruvate'),\n",
    "                                  ('the citirc acid cycle',\n",
    "                                   'released stored energy through oxidation of acetyl CoA'),\n",
    "                                  ('pentose phosphate pathway',\n",
    "                                  'oxidation of glucose-6P and generates a ribulose-5P');\"\"\")\n",
    "conn.commit()"
   ]
  },
  {
   "cell_type": "code",
   "execution_count": 24,
   "metadata": {},
   "outputs": [
    {
     "name": "stdout",
     "output_type": "stream",
     "text": [
      "[('glycolysis', 'convert C6H12O6 into pyruvate'), ('the citirc acid cycle', 'released stored energy through oxidation of acetyl CoA'), ('pentose phosphate pathway', 'oxidation of glucose-6P and generates a ribulose-5P')]\n"
     ]
    }
   ],
   "source": [
    "#print the pathway table\n",
    "c.execute('SELECT * FROM PATHWAYS')\n",
    "print(c.fetchall())"
   ]
  },
  {
   "cell_type": "code",
   "execution_count": 25,
   "metadata": {},
   "outputs": [],
   "source": [
    "#Create a table for enzymes\n",
    "c.execute(\"\"\"DROP TABLE ENZYMES\"\"\")\n",
    "c.execute(\"\"\"CREATE TABLE ENZYMES (name TEXT,\n",
    "                                 function TEXT,\n",
    "                                 commission number TEXT,\n",
    "                                 pathway TEXT);\"\"\")\n",
    "c.execute(\"\"\"INSERT INTO ENZYMES VALUES('phosphoglucomutase',\n",
    "                                  'transfers a phosphate group on an α-D-glucose monomer from the 1 to the 6 position',\n",
    "                                  'EC:5.4.2.2',\n",
    "                                  'glycolysis'),\n",
    "                                  \n",
    "                                  ('Aldose 1-epimerase',\n",
    "                                  'catalyzes the chemical reaction between alpha-D-glucose and beta-D-glucose',\n",
    "                                  'EC:5.1.3.3',\n",
    "                                  'glycolysis'),\n",
    "                                  \n",
    "                                  ('Enolase',\n",
    "                                  'catalyze the conversion of 2-phosphoglycerate(2-PG) to phosphoenolpyruvate(PEP)',\n",
    "                                  'EC:4.2.1.11',\n",
    "                                  'glycolysis'),\n",
    "                                  \n",
    "                                  ('phosphoglycerate kinase',\n",
    "                                  'atalyzes the reversible transfer of a phosphate group from 1,3-bisphosphoglycerate to ADP',\n",
    "                                  'EC:2.7.2.3',\n",
    "                                  'glycolysis'),\n",
    "                                  \n",
    "                                  ('Glucose-6-phosphate isomerase',\n",
    "                                  'interconvert glucose 6-phosphate and fructose 6-phosphate',\n",
    "                                  'EC:5.3.1.9',\n",
    "                                  'pentose phosphate pathway'),\n",
    "                                  \n",
    "                                  ('Transketolase',\n",
    "                                  'Catalyzes the transfer of a two-carbon ketol group from a ketose donor to an aldose acceptor',\n",
    "                                  'EC:2.2.1.1',\n",
    "                                  'pentose phosphate pathway'),\n",
    "                                  \n",
    "                                  ('Fructose-bisphosphate aldolase',\n",
    "                                  'splits the aldol and fructose 1,6-bisphosphate into the triose phosphates dihydroxyacetone phosphate(DHAP) and glyceraldehyde 3-phosphate(G3P)',\n",
    "                                  'EC:4.1.2.13',\n",
    "                                  'pentose phosphate pathway'),\n",
    "                                  \n",
    "                                  ('Fructose-1,6-bisphosphatase',\n",
    "                                  'converts fructose-1,6-bisphosphate to fructose 6-phosphate',\n",
    "                                  'EC:3.1.3.11',\n",
    "                                  'pentose phosphate pathway'),\n",
    "                                  \n",
    "                                  ('Pyruvate dehydrogenase E1 component',\n",
    "                                  'pyruvate decarboxylation and reductive acetylation of lipoic acid',\n",
    "                                  'EC:1.2.4.1',\n",
    "                                  'citric acid cycle'),\n",
    "                                  \n",
    "                                  ('Pyruvate dehydrogenase E2 component',\n",
    "                                  'bind on lipoate-thioester and by transacylation produce acetyl-CoA',\n",
    "                                  'EC:2.3.1.12',\n",
    "                                  'citric acid cycle'),\n",
    "                                  \n",
    "                                  ('Isocitrate dehydrogenase',\n",
    "                                  'catalyzes the oxidative decarboxylation of isocitrate, producing alpha-ketoglutarate and CO₂',\n",
    "                                  'EC:1.1.1.42',\n",
    "                                  'citric acid cycle'),\n",
    "                               \n",
    "                                  ('Malate dehydrogenase',\n",
    "                                  'reversibly catalyzes the oxidation of malate to oxaloacetate using the reduction of NAD⁺ to NADH.',\n",
    "                                  '1.1.1.37',\n",
    "                                  'citric acid cycle');\"\"\")\n",
    "conn.commit()"
   ]
  },
  {
   "cell_type": "code",
   "execution_count": 40,
   "metadata": {
    "scrolled": true
   },
   "outputs": [
    {
     "name": "stdout",
     "output_type": "stream",
     "text": [
      "[('phosphoglucomutase', 'transfers a phosphate group on an α-D-glucose monomer from the 1 to the 6 position', 'EC:5.4.2.2', 'glycolysis'), ('Aldose 1-epimerase', 'catalyzes the chemical reaction between alpha-D-glucose and beta-D-glucose', 'EC:5.1.3.3', 'glycolysis'), ('Enolase', 'catalyze the conversion of 2-phosphoglycerate(2-PG) to phosphoenolpyruvate(PEP)', 'EC:4.2.1.11', 'glycolysis'), ('phosphoglycerate kinase', 'atalyzes the reversible transfer of a phosphate group from 1,3-bisphosphoglycerate to ADP', 'EC:2.7.2.3', 'glycolysis'), ('Glucose-6-phosphate isomerase', 'interconvert glucose 6-phosphate and fructose 6-phosphate', 'EC:5.3.1.9', 'pentose phosphate pathway'), ('Transketolase', 'Catalyzes the transfer of a two-carbon ketol group from a ketose donor to an aldose acceptor', 'EC:2.2.1.1', 'pentose phosphate pathway'), ('Fructose-bisphosphate aldolase', 'splits the aldol and fructose 1,6-bisphosphate into the triose phosphates dihydroxyacetone phosphate(DHAP) and glyceraldehyde 3-phosphate(G3P)', 'EC:4.1.2.13', 'pentose phosphate pathway'), ('Fructose-1,6-bisphosphatase', 'converts fructose-1,6-bisphosphate to fructose 6-phosphate', 'EC:3.1.3.11', 'pentose phosphate pathway'), ('Pyruvate dehydrogenase E1 component', 'pyruvate decarboxylation and reductive acetylation of lipoic acid', 'EC:1.2.4.1', 'citric acid cycle'), ('Pyruvate dehydrogenase E2 component', 'bind on lipoate-thioester and by transacylation produce acetyl-CoA', 'EC:2.3.1.12', 'citric acid cycle'), ('Isocitrate dehydrogenase', 'catalyzes the oxidative decarboxylation of isocitrate, producing alpha-ketoglutarate and CO₂', 'EC:1.1.1.42', 'citric acid cycle'), ('Malate dehydrogenase', 'reversibly catalyzes the oxidation of malate to oxaloacetate using the reduction of NAD⁺ to NADH.', '1.1.1.37', 'citric acid cycle')]\n"
     ]
    }
   ],
   "source": [
    "#print out enzyme table\n",
    "c.execute('SELECT * FROM ENZYMES')\n",
    "print(c.fetchall())"
   ]
  },
  {
   "cell_type": "code",
   "execution_count": 53,
   "metadata": {
    "scrolled": true
   },
   "outputs": [
    {
     "name": "stdout",
     "output_type": "stream",
     "text": [
      "[('phosphoglucomutase', 'transfers a phosphate group on an α-D-glucose monomer from the 1 to the 6 position', 'EC:5.4.2.2', 'glycolysis', 'convert C6H12O6 into pyruvate'), ('Aldose 1-epimerase', 'catalyzes the chemical reaction between alpha-D-glucose and beta-D-glucose', 'EC:5.1.3.3', 'glycolysis', 'convert C6H12O6 into pyruvate'), ('Enolase', 'catalyze the conversion of 2-phosphoglycerate(2-PG) to phosphoenolpyruvate(PEP)', 'EC:4.2.1.11', 'glycolysis', 'convert C6H12O6 into pyruvate'), ('phosphoglycerate kinase', 'atalyzes the reversible transfer of a phosphate group from 1,3-bisphosphoglycerate to ADP', 'EC:2.7.2.3', 'glycolysis', 'convert C6H12O6 into pyruvate'), ('Glucose-6-phosphate isomerase', 'interconvert glucose 6-phosphate and fructose 6-phosphate', 'EC:5.3.1.9', 'pentose phosphate pathway', 'oxidation of glucose-6P and generates a ribulose-5P'), ('Transketolase', 'Catalyzes the transfer of a two-carbon ketol group from a ketose donor to an aldose acceptor', 'EC:2.2.1.1', 'pentose phosphate pathway', 'oxidation of glucose-6P and generates a ribulose-5P'), ('Fructose-bisphosphate aldolase', 'splits the aldol and fructose 1,6-bisphosphate into the triose phosphates dihydroxyacetone phosphate(DHAP) and glyceraldehyde 3-phosphate(G3P)', 'EC:4.1.2.13', 'pentose phosphate pathway', 'oxidation of glucose-6P and generates a ribulose-5P'), ('Fructose-1,6-bisphosphatase', 'converts fructose-1,6-bisphosphate to fructose 6-phosphate', 'EC:3.1.3.11', 'pentose phosphate pathway', 'oxidation of glucose-6P and generates a ribulose-5P')]\n"
     ]
    }
   ],
   "source": [
    "# Create associative table  for enzyme-pathway \n",
    "c.execute(\"\"\"SELECT ENZYMES.name,ENZYMES.function,ENZYMES.commission number,ENZYMES.pathway,PATHWAYS.description \n",
    "          FROM ENZYMES\n",
    "          INNER JOIN PATHWAYS\n",
    "          ON ENZYMES.pathway = PATHWAYS.name\"\"\")\n",
    "print(c.fetchall())"
   ]
  },
  {
   "cell_type": "markdown",
   "metadata": {},
   "source": [
    "From the table obtained above,the pathway is one to many relationship. Muliply enzyme involved in glycosis process. Genes in the gene table is one to one relationship to the enzyme."
   ]
  }
 ],
 "metadata": {
  "kernelspec": {
   "display_name": "Python 3",
   "language": "python",
   "name": "python3"
  },
  "language_info": {
   "codemirror_mode": {
    "name": "ipython",
    "version": 3
   },
   "file_extension": ".py",
   "mimetype": "text/x-python",
   "name": "python",
   "nbconvert_exporter": "python",
   "pygments_lexer": "ipython3",
   "version": "3.6.5"
  }
 },
 "nbformat": 4,
 "nbformat_minor": 2
}
